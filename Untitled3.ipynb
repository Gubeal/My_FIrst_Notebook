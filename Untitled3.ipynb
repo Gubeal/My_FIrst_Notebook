{
  "nbformat": 4,
  "nbformat_minor": 0,
  "metadata": {
    "colab": {
      "provenance": [],
      "authorship_tag": "ABX9TyOogvNp2lhDTcNshXkxU8Sq",
      "include_colab_link": true
    },
    "kernelspec": {
      "name": "python3",
      "display_name": "Python 3"
    },
    "language_info": {
      "name": "python"
    }
  },
  "cells": [
    {
      "cell_type": "markdown",
      "metadata": {
        "id": "view-in-github",
        "colab_type": "text"
      },
      "source": [
        "<a href=\"https://colab.research.google.com/github/Gubeal/My_FIrst_Notebook/blob/main/Untitled3.ipynb\" target=\"_parent\"><img src=\"https://colab.research.google.com/assets/colab-badge.svg\" alt=\"Open In Colab\"/></a>"
      ]
    },
    {
      "cell_type": "code",
      "execution_count": 1,
      "metadata": {
        "id": "4Ff0TRNPMC92"
      },
      "outputs": [],
      "source": [
        "!pip install -q -U google-generativeai"
      ]
    },
    {
      "cell_type": "code",
      "source": [
        "# Import the Python SDK\n",
        "import google.generativeai as genai\n",
        "# Used to securily store your API key from Google AI Studio\n",
        "from google.colab import userdata\n",
        "GOOGLE_API_KEY = userdata.get('GOOGLE_API_KEY')\n",
        "genai.configure(api_key=GOOGLE_API_KEY)"
      ],
      "metadata": {
        "id": "Mj4Lv7uMMpOH"
      },
      "execution_count": 1,
      "outputs": []
    },
    {
      "cell_type": "code",
      "source": [
        "model = genai.GenerativeModel('gemini-pro')"
      ],
      "metadata": {
        "id": "ANpiR9Ngp10w"
      },
      "execution_count": 2,
      "outputs": []
    },
    {
      "cell_type": "code",
      "source": [
        "response = model.generate_content(\"Vamos aprender sobre IA. Me dê sugestões.\")\n",
        "print(response.text)"
      ],
      "metadata": {
        "colab": {
          "base_uri": "https://localhost:8080/",
          "height": 714
        },
        "id": "Saq7bH5MqDrJ",
        "outputId": "35196bbc-b9a9-4bad-e170-250a518e7f75"
      },
      "execution_count": 4,
      "outputs": [
        {
          "output_type": "stream",
          "name": "stdout",
          "text": [
            "**Recursos Online**\n",
            "\n",
            "* **Coursera:** Cursos de IA de universidades de renome, como Stanford e MIT\n",
            "* **edX:** Cursos de IA de instituições líderes, como Harvard e Berkeley\n",
            "* **Plataforma de IA do Google:** Cursos e recursos abrangentes de IA para iniciantes e especialistas\n",
            "* **Khan Academy:** Tutoriais e exercícios passo a passo sobre conceitos básicos de IA\n",
            "* **Kaggle:** Comunidade online para aprendizado de máquina e ciência de dados\n",
            "\n",
            "**Livros**\n",
            "\n",
            "* **Introdução à Inteligência Artificial** por Russell e Norvig\n",
            "* **Inteligência Artificial: Um Ponto de Vista Moderno** por Stuart Russell\n",
            "* **Aprendizado de Máquina** por Tom Mitchell\n",
            "* **Deep Learning** por Ian Goodfellow, Yoshua Bengio e Aaron Courville\n",
            "* **Redes Neurais e Aprendizado Profundo** por Michael Nielsen\n",
            "\n",
            "**Tutoriais e Artigos**\n",
            "\n",
            "* **Tutorial de IA para Iniciantes** por edureka\n",
            "* **O que é Inteligência Artificial?** por SAS\n",
            "* **O Guia Supremo para Aprendizado de Máquina** por IBM\n",
            "* **Deep Dive into Deep Learning** por NVIDIA\n",
            "* **Inteligência Artificial na Prática** por O'Reilly\n",
            "\n",
            "**Comunidades e Fóruns**\n",
            "\n",
            "* **Quora:** Faça perguntas e obtenha respostas da comunidade de especialistas em IA\n",
            "* **Reddit:** Junte-se a subreddits como r/ArtificialIntelligence e r/MachineLearning para discussões e atualizações\n",
            "* **Stack Overflow:** Obtenha ajuda com perguntas técnicas relacionadas a IA\n",
            "* **AI Stack Exchange:** Faça e responda perguntas sobre todos os aspectos da IA\n",
            "* **Meetup:** Participe de grupos locais para conectar-se com outros interessados em IA\n",
            "\n",
            "**Projetos e Experimentos**\n",
            "\n",
            "* **TensorFlow Playground:** Experimente com modelos de aprendizado de máquina em um ambiente de código aberto\n",
            "* **IBM Watson Studio:** Crie e implante modelos de IA com facilidade\n",
            "* **Google Cloud AI Platform:** Acesse ferramentas e serviços avançados para desenvolvimento e implantação de IA\n",
            "* **Azure Machine Learning:** Construa, treine e implante modelos de aprendizado de máquina no Microsoft Azure\n",
            "* **AWS AI/ML:** Desenvolva e implante soluções de IA/ML na AWS\n"
          ]
        }
      ]
    },
    {
      "cell_type": "markdown",
      "source": [
        "# Iniciando o exemplo do 4º dia da imersão Alura IA\n",
        "\n",
        "Instalando o SDK do Google"
      ],
      "metadata": {
        "id": "YKHfBXvWrMB7"
      }
    },
    {
      "cell_type": "code",
      "source": [
        "!pip install -q -U google-generativeai"
      ],
      "metadata": {
        "id": "m1JM7RdTrLqe"
      },
      "execution_count": 5,
      "outputs": []
    },
    {
      "cell_type": "code",
      "source": [
        "import google.generativeai as genai\n",
        "from google.colab import userdata\n",
        "GOOGLE_API_KEY = userdata.get('GOOGLE_API_KEY')\n",
        "genai.configure(api_key=GOOGLE_API_KEY)"
      ],
      "metadata": {
        "id": "uKGiL7Gsron7"
      },
      "execution_count": 7,
      "outputs": []
    },
    {
      "cell_type": "markdown",
      "source": [
        "Listar os modelos disponíveis"
      ],
      "metadata": {
        "id": "-R01e1Uzr2CJ"
      }
    },
    {
      "cell_type": "code",
      "source": [
        "for modelo in genai.list_models():\n",
        "  if 'generateContent' in modelo.supported_generation_methods:\n",
        "     print(modelo.name)"
      ],
      "metadata": {
        "colab": {
          "base_uri": "https://localhost:8080/",
          "height": 142
        },
        "id": "WdSDsQT7rxw_",
        "outputId": "b9757e1b-5959-46ae-bd68-0bbb96120f78"
      },
      "execution_count": 10,
      "outputs": [
        {
          "output_type": "stream",
          "name": "stdout",
          "text": [
            "models/gemini-1.0-pro\n",
            "models/gemini-1.0-pro-001\n",
            "models/gemini-1.0-pro-latest\n",
            "models/gemini-1.0-pro-vision-latest\n",
            "models/gemini-1.5-pro-latest\n",
            "models/gemini-pro\n",
            "models/gemini-pro-vision\n"
          ]
        }
      ]
    },
    {
      "cell_type": "code",
      "source": [
        "generation_config = {\n",
        "    'candidate_count': 1,\n",
        "    'temperature': 0.5\n",
        "}"
      ],
      "metadata": {
        "id": "znEtSVOStclq"
      },
      "execution_count": 11,
      "outputs": []
    },
    {
      "cell_type": "code",
      "source": [
        "safety_settings = {\n",
        "    \"HARASSMENT\": 'BLOCK_NONE',\n",
        "    \"HATE\": 'BLOCK_NONE',\n",
        "    \"SEXUAL\": 'BLOCK_NONE',\n",
        "    \"DANGEROUS\": 'BLOCK_NONE',\n",
        "}"
      ],
      "metadata": {
        "id": "ih81SANtt145"
      },
      "execution_count": 15,
      "outputs": []
    },
    {
      "cell_type": "markdown",
      "source": [
        "Inicializando o modelo"
      ],
      "metadata": {
        "id": "QHeBMblzuo1v"
      }
    },
    {
      "cell_type": "code",
      "source": [
        "model = genai.GenerativeModel(model_name='gemini-1.0-pro',\n",
        "                              generation_config=generation_config,\n",
        "                              safety_settings=safety_settings)\n"
      ],
      "metadata": {
        "id": "c7YppfbFuh9h"
      },
      "execution_count": 16,
      "outputs": []
    },
    {
      "cell_type": "code",
      "source": [
        "response = model.generate_content(\"Vamos aprender sobre IA. Me dê sugestões.\")\n",
        "print(response.text)"
      ],
      "metadata": {
        "colab": {
          "base_uri": "https://localhost:8080/",
          "height": 571
        },
        "id": "Wj8W_OggvjIs",
        "outputId": "aa4089ba-3fbe-45c1-fcea-02a0121eb99a"
      },
      "execution_count": 17,
      "outputs": [
        {
          "output_type": "stream",
          "name": "stdout",
          "text": [
            "**Recursos Online:**\n",
            "\n",
            "* **Coursera:** Cursos gratuitos e pagos sobre IA, aprendizado de máquina e ciência de dados\n",
            "* **edX:** Cursos online de universidades renomadas, incluindo IA e aprendizado de máquina\n",
            "* **Udemy:** Cursos abrangentes sobre IA para iniciantes e profissionais\n",
            "* **MIT OpenCourseWare:** Materiais de cursos de IA do Massachusetts Institute of Technology\n",
            "* **Google AI Education:** Recursos educacionais gratuitos do Google sobre IA e aprendizado de máquina\n",
            "\n",
            "**Livros:**\n",
            "\n",
            "* **Inteligência Artificial: Uma Abordagem Moderna (3ª edição)** por Stuart Russell e Peter Norvig\n",
            "* **Aprendizado de Máquina (2ª edição)** por Ethem Alpaydin\n",
            "* **Aprendizado Profundo (2ª edição)** por Ian Goodfellow, Yoshua Bengio e Aaron Courville\n",
            "* **Inteligência Artificial para Todos** por Andrew Ng e Ernest Davis\n",
            "* **Inteligência Artificial: Uma Perspectiva Prática** por Heinrich Kuehne e Johannes Mueller\n",
            "\n",
            "**Tutoriais e Artigos:**\n",
            "\n",
            "* **Tutorial de IA:** https://www.tensorflow.org/tutorials\n",
            "* **Tutorial de Aprendizado de Máquina:** https://scikit-learn.org/stable/tutorial/index.html\n",
            "* **Artigo sobre os Fundamentos da IA:** https://www.coursera.org/lecture/ai/what-is-ai-and-how-does-it-work-sZ5\n",
            "* **Artigo sobre Aprendizado de Máquina:** https://www.ibm.com/topics/machine-learning\n",
            "* **Artigo sobre Aprendizado Profundo:** https://www.deeplearning.ai/deep-learning-overview/\n",
            "\n",
            "**Comunidades e Fóruns:**\n",
            "\n",
            "* **Reddit r/ArtificialIntelligence:** Fórum de discussão sobre IA\n",
            "* **Stack Overflow:** Fórum de perguntas e respostas sobre programação, incluindo IA\n",
            "* **Kaggle:** Comunidade de ciência de dados e aprendizado de máquina\n",
            "* **Meetup:** Grupos locais que organizam eventos e palestras sobre IA\n",
            "* **Conferências de IA:** Participe de conferências para se conectar com especialistas e aprender sobre as últimas tendências em IA\n"
          ]
        }
      ]
    },
    {
      "cell_type": "code",
      "source": [
        "chat = model.start_chat(history=[])"
      ],
      "metadata": {
        "id": "Ggd0EcLUwLpe"
      },
      "execution_count": 18,
      "outputs": []
    },
    {
      "cell_type": "code",
      "source": [
        "prompt = input('Esperando prompt: ')\n",
        "\n",
        "while prompt != 'fim':\n",
        "  response = chat.send_message(prompt)\n",
        "  print(\"Responsta: \", response.text, \"\\n\")\n",
        "  prompt = input('Esperando prompt: ')\n"
      ],
      "metadata": {
        "colab": {
          "base_uri": "https://localhost:8080/",
          "height": 412
        },
        "id": "gg3MmaLKweHb",
        "outputId": "15f716a9-e5a8-48ff-dcfc-d2635b5e362d"
      },
      "execution_count": 19,
      "outputs": [
        {
          "name": "stdout",
          "output_type": "stream",
          "text": [
            "Esperando prompt: Qual a capital do Vaticano?\n",
            "Responsta:  Cidade do Vaticano \n",
            "\n",
            "Esperando prompt: Qual a comida típica?\n",
            "Responsta:  Não há uma comida típica específica do Vaticano, pois é um país muito pequeno sem uma população residente significativa. No entanto, a culinária da região do Lácio, que circunda o Vaticano, é popular na Cidade do Vaticano. Alguns pratos típicos desta região incluem:\n",
            "\n",
            "* **Pasta alla Carbonara:** Massa com ovos, queijo pecorino romano, pimenta preta e bochecha de porco curada (guanciale).\n",
            "* **Amatriciana:** Massa com molho à base de tomate, bochecha de porco curada (guanciale) e queijo pecorino romano.\n",
            "* **Cacio e Pepe:** Massa com queijo pecorino romano e pimenta preta.\n",
            "* **Supplì:** Bolas de arroz fritas recheadas com queijo mozzarella e molho de tomate.\n",
            "* **Carciofi alla Romana:** Alcachofras cozidas com alho, azeite e hortelã.\n",
            "* **Saltimbocca alla Romana:** Vitela envolvida em presunto e sálvia, cozida em manteiga e vinho branco. \n",
            "\n",
            "Esperando prompt: Qual a população desta cidade?\n",
            "Responsta:  A população da Cidade do Vaticano é de aproximadamente **800 habitantes**, tornando-se o menor país do mundo em termos de população.\n",
            "\n",
            "A maioria dos residentes são clérigos católicos, incluindo o Papa, cardeais, bispos e padres. Há também uma pequena população de guardas suíços, que servem como a guarda pessoal do Papa, e algumas freiras e funcionários leigos.\n",
            "\n",
            "A Cidade do Vaticano não tem cidadãos nativos, pois todos os seus residentes são cidadãos de outros países que trabalham ou estudam no Vaticano. \n",
            "\n",
            "Esperando prompt: fim\n"
          ]
        }
      ]
    },
    {
      "cell_type": "code",
      "source": [
        "chat"
      ],
      "metadata": {
        "colab": {
          "base_uri": "https://localhost:8080/"
        },
        "id": "gA7vUmww3ni-",
        "outputId": "bfad2e5f-c325-425d-984f-889b323f3c24"
      },
      "execution_count": 21,
      "outputs": [
        {
          "output_type": "execute_result",
          "data": {
            "text/plain": [
              "ChatSession(\n",
              "    model=genai.GenerativeModel(\n",
              "        model_name='models/gemini-1.0-pro',\n",
              "        generation_config={'candidate_count': 1, 'temperature': 0.5},\n",
              "        safety_settings={<HarmCategory.HARM_CATEGORY_HARASSMENT: 7>: <HarmBlockThreshold.BLOCK_NONE: 4>, <HarmCategory.HARM_CATEGORY_HATE_SPEECH: 8>: <HarmBlockThreshold.BLOCK_NONE: 4>, <HarmCategory.HARM_CATEGORY_SEXUALLY_EXPLICIT: 9>: <HarmBlockThreshold.BLOCK_NONE: 4>, <HarmCategory.HARM_CATEGORY_DANGEROUS_CONTENT: 10>: <HarmBlockThreshold.BLOCK_NONE: 4>},\n",
              "        tools=None,\n",
              "        system_instruction=None,\n",
              "    ),\n",
              "    history=[glm.Content({'parts': [{'text': 'Qual a capital do Vaticano?'}], 'role': 'user'}), glm.Content({'parts': [{'text': 'Cidade do Vaticano'}], 'role': 'model'}), glm.Content({'parts': [{'text': 'Qual a comida típica?'}], 'role': 'user'}), glm.Content({'parts': [{'text': 'Não há uma c...vinho branco.'}], 'role': 'model'}), glm.Content({'parts': [{'text': 'Qual a popul...desta cidade?'}], 'role': 'user'}), glm.Content({'parts': [{'text': 'A população ... no Vaticano.'}], 'role': 'model'})]\n",
              ")"
            ]
          },
          "metadata": {},
          "execution_count": 21
        }
      ]
    },
    {
      "cell_type": "code",
      "source": [
        "chat.history"
      ],
      "metadata": {
        "colab": {
          "base_uri": "https://localhost:8080/"
        },
        "id": "7A1nawUQ3pUX",
        "outputId": "31f9efd6-934c-418f-e9f2-8e1cb5c464aa"
      },
      "execution_count": 22,
      "outputs": [
        {
          "output_type": "execute_result",
          "data": {
            "text/plain": [
              "[parts {\n",
              "   text: \"Qual a capital do Vaticano?\"\n",
              " }\n",
              " role: \"user\",\n",
              " parts {\n",
              "   text: \"Cidade do Vaticano\"\n",
              " }\n",
              " role: \"model\",\n",
              " parts {\n",
              "   text: \"Qual a comida t\\303\\255pica?\"\n",
              " }\n",
              " role: \"user\",\n",
              " parts {\n",
              "   text: \"N\\303\\243o h\\303\\241 uma comida t\\303\\255pica espec\\303\\255fica do Vaticano, pois \\303\\251 um pa\\303\\255s muito pequeno sem uma popula\\303\\247\\303\\243o residente significativa. No entanto, a culin\\303\\241ria da regi\\303\\243o do L\\303\\241cio, que circunda o Vaticano, \\303\\251 popular na Cidade do Vaticano. Alguns pratos t\\303\\255picos desta regi\\303\\243o incluem:\\n\\n* **Pasta alla Carbonara:** Massa com ovos, queijo pecorino romano, pimenta preta e bochecha de porco curada (guanciale).\\n* **Amatriciana:** Massa com molho \\303\\240 base de tomate, bochecha de porco curada (guanciale) e queijo pecorino romano.\\n* **Cacio e Pepe:** Massa com queijo pecorino romano e pimenta preta.\\n* **Suppl\\303\\254:** Bolas de arroz fritas recheadas com queijo mozzarella e molho de tomate.\\n* **Carciofi alla Romana:** Alcachofras cozidas com alho, azeite e hortel\\303\\243.\\n* **Saltimbocca alla Romana:** Vitela envolvida em presunto e s\\303\\241lvia, cozida em manteiga e vinho branco.\"\n",
              " }\n",
              " role: \"model\",\n",
              " parts {\n",
              "   text: \"Qual a popula\\303\\247\\303\\243o desta cidade?\"\n",
              " }\n",
              " role: \"user\",\n",
              " parts {\n",
              "   text: \"A popula\\303\\247\\303\\243o da Cidade do Vaticano \\303\\251 de aproximadamente **800 habitantes**, tornando-se o menor pa\\303\\255s do mundo em termos de popula\\303\\247\\303\\243o.\\n\\nA maioria dos residentes s\\303\\243o cl\\303\\251rigos cat\\303\\263licos, incluindo o Papa, cardeais, bispos e padres. H\\303\\241 tamb\\303\\251m uma pequena popula\\303\\247\\303\\243o de guardas su\\303\\255\\303\\247os, que servem como a guarda pessoal do Papa, e algumas freiras e funcion\\303\\241rios leigos.\\n\\nA Cidade do Vaticano n\\303\\243o tem cidad\\303\\243os nativos, pois todos os seus residentes s\\303\\243o cidad\\303\\243os de outros pa\\303\\255ses que trabalham ou estudam no Vaticano.\"\n",
              " }\n",
              " role: \"model\"]"
            ]
          },
          "metadata": {},
          "execution_count": 22
        }
      ]
    },
    {
      "cell_type": "code",
      "source": [
        " #Melhorando a visualização\n",
        "#Código disponível em https://ai.google.dev/tutorials/python_quickstart#import packages\n",
        "import textwrap\n",
        "from IPython.display import display\n",
        "from IPython.display import Markdown\n",
        "\n",
        "def to_markdown(text):\n",
        "  text = text.replace('•', '  *')\n",
        "  return Markdown (textwrap.indent (text,'> ', predicate=lambda _: True))\n",
        "#Imprimindo o histórico\n",
        "for message in chat.history:\n",
        "  display (to_markdown(f'**{message.role}**: {message.parts[0].text}'))\n",
        "  print ('----------------------------------------------------')"
      ],
      "metadata": {
        "colab": {
          "base_uri": "https://localhost:8080/",
          "height": 588
        },
        "id": "Rek0oh6jyFMz",
        "outputId": "754890e4-e160-4013-db96-a5d27da68618"
      },
      "execution_count": 20,
      "outputs": [
        {
          "output_type": "display_data",
          "data": {
            "text/plain": [
              "<IPython.core.display.Markdown object>"
            ],
            "text/markdown": "> **user**: Qual a capital do Vaticano?"
          },
          "metadata": {}
        },
        {
          "output_type": "stream",
          "name": "stdout",
          "text": [
            "----------------------------------------------------\n"
          ]
        },
        {
          "output_type": "display_data",
          "data": {
            "text/plain": [
              "<IPython.core.display.Markdown object>"
            ],
            "text/markdown": "> **model**: Cidade do Vaticano"
          },
          "metadata": {}
        },
        {
          "output_type": "stream",
          "name": "stdout",
          "text": [
            "----------------------------------------------------\n"
          ]
        },
        {
          "output_type": "display_data",
          "data": {
            "text/plain": [
              "<IPython.core.display.Markdown object>"
            ],
            "text/markdown": "> **user**: Qual a comida típica?"
          },
          "metadata": {}
        },
        {
          "output_type": "stream",
          "name": "stdout",
          "text": [
            "----------------------------------------------------\n"
          ]
        },
        {
          "output_type": "display_data",
          "data": {
            "text/plain": [
              "<IPython.core.display.Markdown object>"
            ],
            "text/markdown": "> **model**: Não há uma comida típica específica do Vaticano, pois é um país muito pequeno sem uma população residente significativa. No entanto, a culinária da região do Lácio, que circunda o Vaticano, é popular na Cidade do Vaticano. Alguns pratos típicos desta região incluem:\n> \n> * **Pasta alla Carbonara:** Massa com ovos, queijo pecorino romano, pimenta preta e bochecha de porco curada (guanciale).\n> * **Amatriciana:** Massa com molho à base de tomate, bochecha de porco curada (guanciale) e queijo pecorino romano.\n> * **Cacio e Pepe:** Massa com queijo pecorino romano e pimenta preta.\n> * **Supplì:** Bolas de arroz fritas recheadas com queijo mozzarella e molho de tomate.\n> * **Carciofi alla Romana:** Alcachofras cozidas com alho, azeite e hortelã.\n> * **Saltimbocca alla Romana:** Vitela envolvida em presunto e sálvia, cozida em manteiga e vinho branco."
          },
          "metadata": {}
        },
        {
          "output_type": "stream",
          "name": "stdout",
          "text": [
            "----------------------------------------------------\n"
          ]
        },
        {
          "output_type": "display_data",
          "data": {
            "text/plain": [
              "<IPython.core.display.Markdown object>"
            ],
            "text/markdown": "> **user**: Qual a população desta cidade?"
          },
          "metadata": {}
        },
        {
          "output_type": "stream",
          "name": "stdout",
          "text": [
            "----------------------------------------------------\n"
          ]
        },
        {
          "output_type": "display_data",
          "data": {
            "text/plain": [
              "<IPython.core.display.Markdown object>"
            ],
            "text/markdown": "> **model**: A população da Cidade do Vaticano é de aproximadamente **800 habitantes**, tornando-se o menor país do mundo em termos de população.\n> \n> A maioria dos residentes são clérigos católicos, incluindo o Papa, cardeais, bispos e padres. Há também uma pequena população de guardas suíços, que servem como a guarda pessoal do Papa, e algumas freiras e funcionários leigos.\n> \n> A Cidade do Vaticano não tem cidadãos nativos, pois todos os seus residentes são cidadãos de outros países que trabalham ou estudam no Vaticano."
          },
          "metadata": {}
        },
        {
          "output_type": "stream",
          "name": "stdout",
          "text": [
            "----------------------------------------------------\n"
          ]
        }
      ]
    }
  ]
}